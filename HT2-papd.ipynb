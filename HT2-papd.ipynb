{
 "cells": [
  {
   "cell_type": "markdown",
   "id": "metallic-cathedral",
   "metadata": {},
   "source": [
    "# Hoja de trabajo #2"
   ]
  },
  {
   "cell_type": "markdown",
   "id": "cardiac-miller",
   "metadata": {},
   "source": [
    "## Parte 1"
   ]
  },
  {
   "cell_type": "markdown",
   "id": "placed-basketball",
   "metadata": {},
   "source": [
    "## Problema 1"
   ]
  },
  {
   "cell_type": "code",
   "execution_count": null,
   "id": "magnetic-extent",
   "metadata": {},
   "outputs": [],
   "source": [
    "#Problema 1 - Parte 1\n",
    "def split(n = 0):\n",
    "    hora = int(n/3600)\n",
    "    n = n - hora*3600\n",
    "    minuto = int(n/60)\n",
    "    n = n - minuto*60\n",
    "    segundo = n\n",
    "    return hora, minuto, segundo\n",
    "while True:\n",
    "    try:\n",
    "        num = int(input(\"\\nIngrese la cantidad en segundos:\\n\"))\n",
    "        res = split(num)\n",
    "        print(\"\\nEl valor ingresado equivale a: {} horas, {} minutos, {} segundos.\\n\".format(res[0],res[1],res[2]))\n",
    "    except ValueError:\n",
    "        print (\"\\nDebe ingresar un valor numérico.\\n\")\n",
    "    except KeyboardInterrupt:\n",
    "        print(\"Adios.\")\n",
    "        break"
   ]
  },
  {
   "cell_type": "markdown",
   "id": "equal-confidence",
   "metadata": {},
   "source": [
    "## Problema 2"
   ]
  },
  {
   "cell_type": "code",
   "execution_count": null,
   "id": "genetic-teddy",
   "metadata": {},
   "outputs": [],
   "source": [
    "#Problema 2 - Parte 1\n",
    "def func(n = 0, c = ''):\n",
    "    for i in range(1, n+1):\n",
    "        l = c*i + \" \"*(n-i+2) + \" \"*(i)+c*(n+ 1-i) + \" \"*10 + c*(n+ 1-i) +  \" \"*(n-1) +c*i\n",
    "        print(l)\n",
    "while True:\n",
    "    try:\n",
    "        m = input(\"Ingrese un string de la forma n,c. (n es numero y c char1):\\n\")\n",
    "        vec = m.split(',')\n",
    "        vec[0] = int(vec[0])\n",
    "        if (len(vec) == 2) and (len(vec[1]) == 1) and (vec[0] <= 20 or vec[0] > 0):\n",
    "            func(vec[0], vec[1])\n",
    "        else:\n",
    "            print(\"Hay un error en el formato ingresado.\\n\")\n",
    "    except ValueError:\n",
    "        print(\"Hay un error en el formato ingresado.\\n\")\n",
    "    except TypeError:\n",
    "        print(\"Hay un error en el formato ingresado.\\n\")\n",
    "    except KeyboardInterrupt:\n",
    "        print(\"Adios\\n\")\n",
    "        break"
   ]
  },
  {
   "cell_type": "markdown",
   "id": "julian-sherman",
   "metadata": {},
   "source": [
    "## Problema 3"
   ]
  },
  {
   "cell_type": "code",
   "execution_count": 23,
   "id": "violent-caution",
   "metadata": {},
   "outputs": [
    {
     "name": "stdin",
     "output_type": "stream",
     "text": [
      "Ingrese dia:\n",
      " 10\n",
      "Ingrese mes:\n",
      " 10\n",
      "Ingrese anio:\n",
      " 1994\n"
     ]
    },
    {
     "name": "stdout",
     "output_type": "stream",
     "text": [
      "Su edad es: 26 años, 4 meses y 21 días.\n"
     ]
    }
   ],
   "source": [
    "# Problema 2 - Parte 1\n",
    "from datetime import date\n",
    "from datetime import datetime\n",
    "\n",
    "def getValue(s = \"\"):\n",
    "    while True:\n",
    "        try:\n",
    "            return int(input(\"Ingrese {}:\\n\".format(s)))\n",
    "        except ValueError:\n",
    "            print(\"Debe ingresar un número\")\n",
    "        except KeyboardInterrupt:\n",
    "            print(\"Adios.\\n\")\n",
    "            exit()\n",
    "while True:\n",
    "    try:\n",
    "        d = str(getValue(\"dia\"))\n",
    "        m = str(getValue(\"mes\"))\n",
    "        a = str(getValue(\"anio\"))\n",
    "        fmt = '%Y-%m-%d'\n",
    "        bd = datetime.strptime(a+\"-\"+m+\"-\"+d, fmt)\n",
    "        td = datetime.strptime(str(date.today()), fmt)\n",
    "        dias = (td - bd).days\n",
    "        anio = int(dias/365)\n",
    "        dias = dias - anio*365\n",
    "        meses = int(dias/30)\n",
    "        dias = dias - meses*30\n",
    "        print(\"Su edad es: {} años, {} meses y {} días.\".format(anio, meses, dias))\n",
    "    except ValueError:\n",
    "        print(\"Ingrese una fecha valida. \\n\")\n",
    "    except KeyboardInterrupt:\n",
    "        print(\"Adios.\\n\")\n",
    "        exit()"
   ]
  },
  {
   "cell_type": "markdown",
   "id": "outdoor-thought",
   "metadata": {},
   "source": [
    "## Parte 2"
   ]
  },
  {
   "cell_type": "markdown",
   "id": "economic-memory",
   "metadata": {},
   "source": [
    "## Problema 1"
   ]
  },
  {
   "cell_type": "code",
   "execution_count": 27,
   "id": "fatty-nevada",
   "metadata": {},
   "outputs": [
    {
     "name": "stdout",
     "output_type": "stream",
     "text": [
      "1233456\n"
     ]
    }
   ],
   "source": [
    "#Problema 1 - Parte 2\n",
    "# t sera el la tupla que ingrese a la funcion.\n",
    "t = (\"123\", 34, 56)\n",
    "def convertidor(t=()):\n",
    "    out = ''\n",
    "    for i in t:\n",
    "        out = out + (str(i))\n",
    "    print(out)\n",
    "    \n",
    "#Se hace uso de la funcion con el parametro l\n",
    "convertidor(t)\n"
   ]
  },
  {
   "cell_type": "markdown",
   "id": "imposed-columbia",
   "metadata": {},
   "source": [
    "## Problema 2"
   ]
  },
  {
   "cell_type": "code",
   "execution_count": 39,
   "id": "another-container",
   "metadata": {},
   "outputs": [
    {
     "name": "stdout",
     "output_type": "stream",
     "text": [
      "[('X',), ('a', 'b'), ('a', 'b', 'c'), ('d', 'a')]\n"
     ]
    }
   ],
   "source": [
    "#Problema 2 - Parte 2\n",
    "# l sera la lista que ingrese en la funcion.\n",
    "l =  [(), (), (), ('X',), ('a', 'b'), ('a', 'b', 'c'), ('d','a'),()]\n",
    "def eliminador(l = []):\n",
    "    res = []\n",
    "    for i in l:\n",
    "        if len(i) != 0:\n",
    "            res.append(i)\n",
    "        else:\n",
    "            pass\n",
    "    return res\n",
    "#Se ejecuta la funcion eliminador con el parametro l\n",
    "print(eliminador(l))"
   ]
  },
  {
   "cell_type": "markdown",
   "id": "neural-welding",
   "metadata": {},
   "source": [
    "## Problema 3"
   ]
  },
  {
   "cell_type": "code",
   "execution_count": 44,
   "id": "diagnostic-colon",
   "metadata": {},
   "outputs": [
    {
     "name": "stdout",
     "output_type": "stream",
     "text": [
      "(10.5, 44.0, 58.0)\n"
     ]
    }
   ],
   "source": [
    "#Problema 3 - Parte 2\n",
    "# t sera la tupla que ingrese a la funcion.\n",
    "t = ((10, 10, 10, 12), (30, 45, 56, 45), (81, 80, 39, 32))\n",
    "def promedio(t = ()):\n",
    "    res = []\n",
    "    for i in t:\n",
    "        tot=0\n",
    "        for j in i:\n",
    "            tot = tot + j\n",
    "        res.append(tot/len(i))\n",
    "    return tuple(res)\n",
    "#Se ejecuta la funcion promedio con el atributo t.\n",
    "print(promedio(t))"
   ]
  },
  {
   "cell_type": "code",
   "execution_count": null,
   "id": "conceptual-local",
   "metadata": {},
   "outputs": [],
   "source": []
  }
 ],
 "metadata": {
  "kernelspec": {
   "display_name": "Python 3",
   "language": "python",
   "name": "python3"
  },
  "language_info": {
   "codemirror_mode": {
    "name": "ipython",
    "version": 3
   },
   "file_extension": ".py",
   "mimetype": "text/x-python",
   "name": "python",
   "nbconvert_exporter": "python",
   "pygments_lexer": "ipython3",
   "version": "3.8.5"
  }
 },
 "nbformat": 4,
 "nbformat_minor": 5
}
