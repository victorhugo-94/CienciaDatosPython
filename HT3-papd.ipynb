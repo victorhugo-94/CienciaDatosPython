{
 "cells": [
  {
   "cell_type": "markdown",
   "metadata": {},
   "source": [
    "## Hoja de trabajo #3 - Diccionarios, Sets y Programación Orientada a Objetos "
   ]
  },
  {
   "cell_type": "markdown",
   "metadata": {},
   "source": []
  },
  {
   "cell_type": "code",
   "execution_count": 74,
   "metadata": {},
   "outputs": [
    {
     "name": "stdout",
     "output_type": "stream",
     "text": [
      "[1, 4, 9]\n",
      "{'beta1': 1.0, 'beta0': 0.0, 'x': [1, 2, 3], 'y': [1, 2, 3], 'flag': [False, False]}\n",
      "fn\n",
      "data.csv\n",
      "C:\\Users\\vborrayo\\Documents\\HT2-papd\\data.csv\n",
      "[1, 2, 3, 4, 5, 6, 7, 8, 9, 10, 11, 12, 13, 14, 15, 16, 17, 18, 19, 20]\n",
      "[6, 11, 16, 21, 26, 31, 36, 41, 46, 51, 56, 61, 66, 71, 76, 81, 86, 91, 96, 101]\n"
     ]
    },
    {
     "data": {
      "text/plain": [
       "501.0"
      ]
     },
     "execution_count": 74,
     "metadata": {},
     "output_type": "execute_result"
    }
   ],
   "source": [
    "#HT3\n",
    "#La libreria os se importa unicamente para manejar los path de manera dinamica\n",
    "import os\n",
    "\n",
    "class my_regresion():\n",
    "    classX=[]\n",
    "    classY=[]\n",
    "    classb0 = None\n",
    "    classb1 = None\n",
    "    def __init__(self, x=[], y=[]):\n",
    "        n = len(x)\n",
    "        sumx = sum(x)\n",
    "        sumy = sum(y)\n",
    "        sumx2 = sum([i**2 for i in x])\n",
    "        sumxy = sum([x[i]*y[i] for i in range(len(x))])\n",
    "        #Ecuaciones segun el enunciado:\n",
    "        #self.beta0 = (n*sumxy - sumx*sumy)/(n*sumx2 - sumx**2)\n",
    "        #self.beta1 = (n*sumx2*sumy - sumx*sumxy)/(n*sumx2 - sumx**2)\n",
    "        #Se cambiaron las ecuaciones.\n",
    "        self.beta1 = (sumx*sumy - n*sumxy)/(sumx**2 - n*sumx2)\n",
    "        self.beta0 = (sumy - self.beta1*sumx)/(n)\n",
    "        self.x = x\n",
    "        self.y = y\n",
    "        #Bandera para evitar correr r2 o r una vez han sido calculadas.\n",
    "        self.flag = [False, False]\n",
    "        print([x[i]*y[i] for i in range(len(x))])\n",
    "    def predict(self, val):\n",
    "        return self.beta0 + self.beta1*val\n",
    "    def predictN(self, vals = [1,2]):\n",
    "        return [self.beta0 + self.beta1*i for i in vals]\n",
    "    def r2(self):\n",
    "        n=len(self.x)\n",
    "        yAvrg = sum(self.y)/len(self.y)\n",
    "        yPredict = self.predictN(self.x)\n",
    "        num = sum([(i-yAvrg)**2 for i in yPredict])\n",
    "        deno = sum([(yPredict[i]-self.y[i])**2 for i in range(n)])\n",
    "        self.flag[0] = True\n",
    "        self.r2 = num/deno\n",
    "        return self.r2\n",
    "    def r(self):\n",
    "        if(self.flag[0] == True):\n",
    "            self.r = self.r2**(1/2)\n",
    "        else:\n",
    "            self.r = self.r2()**(1/2)\n",
    "        self.flag[1] = True\n",
    "        return self.r\n",
    "    def getAllRegParams(self):\n",
    "        if(self.flag[1] == False):\n",
    "            self.r()\n",
    "        return{'b0':self.beta0, 'b1':self.beta1, 'r2':self.r2, 'r':self.r}\n",
    "    def updateFromClass(self):\n",
    "        #Este metodo adicional se agrega para poder acceder a los valores de la correlacion del csv desde una instancia\n",
    "        self.beta0 = self.classb0\n",
    "        self.beta1 = self.classb1\n",
    "        #Se reinicia la bandera puesto que no se calculo r2 o r\n",
    "        self.falg=[False,False]\n",
    "    #@classmethod\n",
    "    def from_file(cls, fileName):\n",
    "        #Se considera el caso en donde el archivo csv esta en la misma carpeta que el script de Python.\n",
    "        #dirPath = os.path.dirname(os.path.abspath( __file__ ))\n",
    "        path = os.path.join(os.getcwd(),fileName)\n",
    "        print('fn')\n",
    "        print(fileName)\n",
    "        print(path)\n",
    "        file = open(path,'r')\n",
    "        x=[]\n",
    "        y=[]\n",
    "        for i in file:\n",
    "            tx, ty = i.split(',')\n",
    "            x.append(int(tx))\n",
    "            y.append(int(ty.replace('\\n', '')))\n",
    "        print(x)\n",
    "        print(y)\n",
    "        n = len(x)\n",
    "        sumx = sum(x)\n",
    "        sumy = sum(y)\n",
    "        sumx2 = sum([i**2 for i in x])\n",
    "        sumxy = sum([x[i]*y[i] for i in range(len(x))])\n",
    "        cls.classX = x\n",
    "        cls.classY = y\n",
    "        #Se cambiaron las ecuaciones. Las ecuaciones comentadas son las del enunciado.\n",
    "        #cls.classb0 = (n*sumxy - sumx*sumy)/(n*sumx2 - sumx**2)\n",
    "        #cls.classb1 = (n*sumx2*sumy - sumx*sumxy)/(n*sumx2 - sumx**2)\n",
    "        cls.classb1 = (sumx*sumy - n*sumxy)/(sumx**2 - n*sumx2)\n",
    "        cls.classb0 = (sumy - cls.classb1*sumx)/(n)        \n",
    "reg = my_regresion([1,2,3],[1,2,3])\n",
    "print(reg.__dict__)\n",
    "#reg.predict(2)\n",
    "#reg.predictN([1,2])\n",
    "#reg.r2()\n",
    "#reg.getAllRegParams()\n",
    "reg.from_file('data.csv')\n",
    "reg.updateFromClass()\n",
    "#reg.classb1\n",
    "reg.__dict__\n",
    "reg.getAllRegParams()\n",
    "reg.predict(100)"
   ]
  },
  {
   "cell_type": "markdown",
   "metadata": {},
   "source": [
    "![image](C:\\Users\\vborrayo\\Documents\\HT2-papdecs.png)"
   ]
  },
  {
   "cell_type": "code",
   "execution_count": null,
   "metadata": {},
   "outputs": [],
   "source": []
  }
 ],
 "metadata": {
  "kernelspec": {
   "display_name": "Python 3",
   "language": "python",
   "name": "python3"
  },
  "language_info": {
   "codemirror_mode": {
    "name": "ipython",
    "version": 3
   },
   "file_extension": ".py",
   "mimetype": "text/x-python",
   "name": "python",
   "nbconvert_exporter": "python",
   "pygments_lexer": "ipython3",
   "version": "3.8.5"
  }
 },
 "nbformat": 4,
 "nbformat_minor": 4
}
