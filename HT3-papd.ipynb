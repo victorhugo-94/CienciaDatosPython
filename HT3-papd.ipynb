{
 "cells": [
  {
   "cell_type": "markdown",
   "metadata": {},
   "source": [
    "## Hoja de trabajo #3 - Diccionarios, Sets y Programación Orientada a Objetos "
   ]
  },
  {
   "cell_type": "markdown",
   "metadata": {},
   "source": []
  },
  {
   "cell_type": "code",
   "execution_count": 4,
   "metadata": {},
   "outputs": [
    {
     "data": {
      "text/plain": [
       "{'b0': 7.032593549127711,\n",
       " 'b1': 0.04753664043301965,\n",
       " 'r2': 0.9775711984072368,\n",
       " 'r': 0.9887220025908379}"
      ]
     },
     "execution_count": 4,
     "metadata": {},
     "output_type": "execute_result"
    }
   ],
   "source": [
    "#HT3\n",
    "#La libreria os se importa unicamente para manejar los path de manera dinamica\n",
    "import os\n",
    "\n",
    "class my_regresion():\n",
    "    classX=[]\n",
    "    classY=[]\n",
    "    classb0 = None\n",
    "    classb1 = None\n",
    "    def __init__(self, x=[], y=[]):\n",
    "        n = len(x)\n",
    "        sumx = sum(x)\n",
    "        sumy = sum(y)\n",
    "        sumx2 = sum([i**2 for i in x])\n",
    "        sumxy = sum([x[i]*y[i] for i in range(len(x))])\n",
    "        #Ecuaciones segun el enunciado:\n",
    "        #self.beta0 = (n*sumxy - sumx*sumy)/(n*sumx2 - sumx**2)\n",
    "        #self.beta1 = (n*sumx2*sumy - sumx*sumxy)/(n*sumx2 - sumx**2)\n",
    "        #Se cambiaron las ecuaciones.\n",
    "        self.beta1 = (sumx*sumy - n*sumxy)/(sumx**2 - n*sumx2)\n",
    "        self.beta0 = (sumy - self.beta1*sumx)/(n)\n",
    "        self.x = x\n",
    "        self.y = y\n",
    "        #Bandera para evitar correr r2 o r una vez han sido calculadas.\n",
    "        self.flag = [False, False]\n",
    "    def predict(self, val):\n",
    "        return self.beta0 + self.beta1*val\n",
    "    def predictN(self, vals = [1,2]):\n",
    "        return [self.beta0 + self.beta1*i for i in vals]\n",
    "    def r2(self):\n",
    "        n=len(self.x)\n",
    "        yAvrg = sum(self.y)/len(self.y)\n",
    "        yPredict = self.predictN(self.x)\n",
    "        num = sum([(i-yAvrg)**2 for i in yPredict])\n",
    "        deno = sum([(yPredict[i]-self.y[i])**2 for i in range(n)])\n",
    "        self.flag[0] = True\n",
    "        self.r2 = num/deno\n",
    "        return self.r2\n",
    "    def r(self):\n",
    "        if(self.flag[0] == True):\n",
    "            self.r = self.r2**(1/2)\n",
    "        else:\n",
    "            self.r = self.r2()**(1/2)\n",
    "        self.flag[1] = True\n",
    "        return self.r\n",
    "    def getAllRegParams(self):\n",
    "        if(self.flag[1] == False):\n",
    "            self.r()\n",
    "        return{'b0':self.beta0, 'b1':self.beta1, 'r2':self.r2, 'r':self.r}\n",
    "    def updateFromClass(self):\n",
    "        #Este metodo adicional se agrega para poder acceder a los valores de la correlacion del csv desde una instancia\n",
    "        self.beta0 = self.classb0\n",
    "        self.beta1 = self.classb1\n",
    "        #Se reinicia la bandera puesto que no se calculo r2 o r\n",
    "        self.falg=[False,False]\n",
    "    #@classmethod\n",
    "    def from_file(cls, fileName):\n",
    "        #Se considera el caso en donde el archivo csv esta en la misma carpeta que el script de Python.\n",
    "        #dirPath = os.path.dirname(os.path.abspath( __file__ ))\n",
    "        path = os.path.join(os.getcwd(),fileName)\n",
    "        file = open(path,'r')\n",
    "        x=[]\n",
    "        y=[]\n",
    "        for i in file:\n",
    "            try:\n",
    "                ty, tx = i.split(',')\n",
    "                x.append(float(tx))\n",
    "                y.append(float(ty.replace('\\n', '')))\n",
    "            except ValueError:\n",
    "                pass\n",
    "        n = len(x)\n",
    "        sumx = sum(x)\n",
    "        sumy = sum(y)\n",
    "        sumx2 = sum([i**2 for i in x])\n",
    "        sumxy = sum([x[i]*y[i] for i in range(len(x))])\n",
    "        cls.classX = x\n",
    "        cls.classY = y\n",
    "        #Se cambiaron las ecuaciones. Las ecuaciones comentadas son las del enunciado.\n",
    "        #cls.classb0 = (n*sumxy - sumx*sumy)/(n*sumx2 - sumx**2)\n",
    "        #cls.classb1 = (n*sumx2*sumy - sumx*sumxy)/(n*sumx2 - sumx**2)\n",
    "        cls.classb1 = (sumx*sumy - n*sumxy)/(sumx**2 - n*sumx2)\n",
    "        cls.classb0 = (sumy - cls.classb1*sumx)/(n)        \n",
    "reg = my_regresion([1,2,3],[1,2,3])\n",
    "#print(reg.__dict__)\n",
    "reg.from_file('Advertising.csv')\n",
    "reg.updateFromClass()\n",
    "reg.getAllRegParams()\n",
    "#reg.predict(151)"
   ]
  },
  {
   "cell_type": "code",
   "execution_count": null,
   "metadata": {},
   "outputs": [],
   "source": []
  }
 ],
 "metadata": {
  "kernelspec": {
   "display_name": "Python 3",
   "language": "python",
   "name": "python3"
  },
  "language_info": {
   "codemirror_mode": {
    "name": "ipython",
    "version": 3
   },
   "file_extension": ".py",
   "mimetype": "text/x-python",
   "name": "python",
   "nbconvert_exporter": "python",
   "pygments_lexer": "ipython3",
   "version": "3.8.8"
  }
 },
 "nbformat": 4,
 "nbformat_minor": 4
}
